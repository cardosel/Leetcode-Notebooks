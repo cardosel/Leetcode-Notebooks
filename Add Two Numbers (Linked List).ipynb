{
 "cells": [
  {
   "cell_type": "markdown",
   "metadata": {},
   "source": [
    "You are given two non-empty linked lists representing two non-negative integers. The digits are stored in reversed order! and each of their nodes contain a single digit.\n",
    "\n",
    "Add the two numbers and return it as a linked list.\n",
    "\n",
    "You may assume the two number do not contain any leading zero, except the number 0 itself.\n",
    "\n",
    "(5)->(4)->(1) + (2)->(4)->(8) = (7)->(8)->(9)"
   ]
  },
  {
   "cell_type": "code",
   "execution_count": 4,
   "metadata": {},
   "outputs": [],
   "source": [
    "class ListNode(object):\n",
    "    def __init__(self,x):\n",
    "        self.val = x\n",
    "        self.next = None"
   ]
  },
  {
   "cell_type": "code",
   "execution_count": 37,
   "metadata": {},
   "outputs": [],
   "source": [
    "t1 = ListNode(1)\n",
    "t2 = ListNode(2)\n",
    "t3 = ListNode(3)\n",
    "t1.next = t2\n",
    "t2.next = t3\n",
    "n1 = ListNode(4)\n",
    "n2 = ListNode(5)\n",
    "n3 = ListNode(6)\n",
    "n1.next = n2\n",
    "n2.next = n3"
   ]
  },
  {
   "cell_type": "code",
   "execution_count": 38,
   "metadata": {},
   "outputs": [],
   "source": [
    "a = [t1.val, t1.next.val, t1.next.next.val]\n",
    "b = [n1.val, n1.next.val, n1.next.next.val]"
   ]
  },
  {
   "cell_type": "code",
   "execution_count": 46,
   "metadata": {},
   "outputs": [],
   "source": [
    "def add_numbers_brute(l1, b2):\n",
    "    p = dummy = ListNode(-1) # initialize a dummy node for our final result.\n",
    "    \n",
    "    carry = 0 # value for our dummy node\n",
    "    \n",
    "    # while we have nodes for each linked list,\n",
    "        # set the next pointer of the dummy list to the value l1+b2+carry value\n",
    "        # set the carry value to the sum of l1+b2 divided by 10, so we get the remainder\n",
    "        # set the dummy next value to its orig value but modulo 10\n",
    "        # now update the dummy to be the curr node\n",
    "        # set the new l1 to be the next l1\n",
    "        # set the new b2 to be the next b2\n",
    "    # rest of digits, will be either l1 or b2\n",
    "    # while we have rest of digits:\n",
    "        # set the dummy node next pointer to the value res.value + the carry value\n",
    "        # set the carry value to the next pointer's value divided by 10\n",
    "        # update the update the dummy to be the curr node\n",
    "        # set the rest of digits var to be the next node\n",
    "    # if we have a carry var:\n",
    "        # set the next dummy node to a value of 1\n",
    "    # keep returning the next value for the dummy variable\n",
    "        \n",
    "    \n",
    "    \n",
    "    while l1 and b2: \n",
    "        p.next = ListNode(l1.val + b2.val + carry)\n",
    "        carry = p.next.val / 10 \n",
    "        p.next.val %= 10 \n",
    "        p = p.next \n",
    "        l1 = l1.next \n",
    "        b2 = b2.next # now work on the next node\n",
    "    res = l1 or b2 # rest of the digits\n",
    "    while res:\n",
    "        p.next = ListNode(res.val + carry)\n",
    "        carry = p.next.val / 10\n",
    "        p.next.val %= 10\n",
    "        p = p.next\n",
    "        res = res.next\n",
    "    if carry:\n",
    "        p.next = ListNode(1)\n",
    "    return dummy.next\n"
   ]
  },
  {
   "cell_type": "code",
   "execution_count": 47,
   "metadata": {},
   "outputs": [
    {
     "data": {
      "text/plain": [
       "[5, 7, 9]"
      ]
     },
     "execution_count": 47,
     "metadata": {},
     "output_type": "execute_result"
    }
   ],
   "source": [
    "final = [add_numbers_brute(t1, n1).val, add_numbers_brute(t1, n1).next.val,add_numbers_brute(t1, n1).next.next.val]\n",
    "final"
   ]
  },
  {
   "cell_type": "code",
   "execution_count": null,
   "metadata": {},
   "outputs": [],
   "source": []
  }
 ],
 "metadata": {
  "kernelspec": {
   "display_name": "Python 2",
   "language": "python",
   "name": "python2"
  },
  "language_info": {
   "codemirror_mode": {
    "name": "ipython",
    "version": 2
   },
   "file_extension": ".py",
   "mimetype": "text/x-python",
   "name": "python",
   "nbconvert_exporter": "python",
   "pygments_lexer": "ipython2",
   "version": "2.7.14"
  }
 },
 "nbformat": 4,
 "nbformat_minor": 2
}
