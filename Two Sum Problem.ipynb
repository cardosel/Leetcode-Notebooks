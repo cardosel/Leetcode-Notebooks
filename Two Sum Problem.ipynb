{
 "cells": [
  {
   "cell_type": "markdown",
   "metadata": {},
   "source": [
    "Given an array of integers, return indices of the two numbers such that they add up to a specific target.\n",
    "\n",
    "You may assume that each input would have exactly one solution, and you may not use the same element twice.\n",
    "\n",
    "Example:\n",
    "\n",
    "Given nums = [2, 7, 11, 15], target = 9,\n",
    "\n",
    "Because nums[0] + nums[1] = 2 + 7 = 9, return [0, 1]."
   ]
  },
  {
   "cell_type": "code",
   "execution_count": 118,
   "metadata": {},
   "outputs": [],
   "source": [
    "\n",
    "class Solution(object):\n",
    "    def twoSum(self, nums, target):\n",
    "        \"\"\"\n",
    "        :type nums: List[int]\n",
    "        :type target: int\n",
    "        :rtype: List[int]\n",
    "        \"\"\"\n",
    "        d = {}\n",
    "        print d\n",
    "        for i, num in enumerate(nums):\n",
    "            if target - num in d:\n",
    "                return [d[target - num], i]\n",
    "            d[num] = i\n",
    "        # no special case handling becasue it's assumed that it has only one solution\n",
    "            "
   ]
  },
  {
   "cell_type": "code",
   "execution_count": 119,
   "metadata": {},
   "outputs": [],
   "source": [
    "arr = [2,4,5,11,8,15]"
   ]
  },
  {
   "cell_type": "code",
   "execution_count": 120,
   "metadata": {},
   "outputs": [],
   "source": [
    "def twoSum(nums, target):\n",
    "    d = {}\n",
    "    for i, num in enumerate(nums):\n",
    "        \n",
    "        #print \"index: \",i, \"index value:\", num\n",
    "        print target, num\n",
    "        if target - num in d:\n",
    "            print \"d target-num:\", target-num, \"at index:\", d[target-num]\n",
    "            print target,num\n",
    "            print d\n",
    "            return [d[target-num], i]\n",
    "        d[num]= i\n",
    "        print d"
   ]
  },
  {
   "cell_type": "code",
   "execution_count": 76,
   "metadata": {},
   "outputs": [
    {
     "name": "stdout",
     "output_type": "stream",
     "text": [
      "12 2\n",
      "{2: 0}\n",
      "12 4\n",
      "{2: 0, 4: 1}\n",
      "12 5\n",
      "{2: 0, 4: 1, 5: 2}\n",
      "12 11\n",
      "{2: 0, 11: 3, 4: 1, 5: 2}\n",
      "12 8\n",
      "d target-num: 4 at index: 1\n",
      "12 8\n",
      "{2: 0, 11: 3, 4: 1, 5: 2}\n"
     ]
    },
    {
     "data": {
      "text/plain": [
       "[1, 4]"
      ]
     },
     "execution_count": 76,
     "metadata": {},
     "output_type": "execute_result"
    }
   ],
   "source": [
    "twoSum(arr,12)"
   ]
  }
 ],
 "metadata": {
  "kernelspec": {
   "display_name": "Python 2",
   "language": "python",
   "name": "python2"
  },
  "language_info": {
   "codemirror_mode": {
    "name": "ipython",
    "version": 2
   },
   "file_extension": ".py",
   "mimetype": "text/x-python",
   "name": "python",
   "nbconvert_exporter": "python",
   "pygments_lexer": "ipython2",
   "version": "2.7.14"
  }
 },
 "nbformat": 4,
 "nbformat_minor": 2
}
