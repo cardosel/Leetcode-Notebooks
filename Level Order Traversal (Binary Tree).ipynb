{
 "cells": [
  {
   "cell_type": "code",
   "execution_count": 8,
   "metadata": {},
   "outputs": [],
   "source": [
    "from collections import deque\n",
    "\n",
    "class TreeNode(object):\n",
    "     def __init__(self, x):\n",
    "        self.val = x\n",
    "        self.left = None\n",
    "        self.right = None\n",
    "\n",
    "\n",
    "class Solution(object):\n",
    "    def levelOrder(self, root):\n",
    "        \"\"\"\n",
    "        :type root: TreeNode\n",
    "        :rtype: List[List[int]]\n",
    "        \"\"\"\n",
    "        if not root:\n",
    "            return []\n",
    "        ans = [[root.val]]\n",
    "        queue = deque([root])\n",
    "        while queue:\n",
    "            levelans = []\n",
    "            for _ in xrange(0, len(queue)):\n",
    "                root = queue.popleft()\n",
    "                if root.left:\n",
    "                    levelans.append(root.left.val)\n",
    "                    queue.append(root.left)\n",
    "                if root.right:\n",
    "                    levelans.append(root.right.val)\n",
    "                    queue.append(root.right)\n",
    "            if levelans:\n",
    "                ans.append(levelans)\n",
    "        return ans"
   ]
  },
  {
   "cell_type": "code",
   "execution_count": 2,
   "metadata": {},
   "outputs": [],
   "source": [
    "test = Solution()"
   ]
  },
  {
   "cell_type": "code",
   "execution_count": 17,
   "metadata": {},
   "outputs": [],
   "source": [
    "root = TreeNode(3)\n",
    "root_left = TreeNode(9)\n",
    "root_right = TreeNode(20)\n",
    "root_right_left = TreeNode(15)\n",
    "root_right_right = TreeNode(7)\n",
    "root_left_left= TreeNode(\"null\")\n",
    "root_left_right = TreeNode(\"null\")\n",
    "root.right = root_right\n",
    "root.left = root_left\n",
    "root_right.left = root_right_left\n",
    "root_right.right = root_right_right\n",
    "root_left.left = root_left_left\n",
    "root_left.right = root_left_right"
   ]
  },
  {
   "cell_type": "code",
   "execution_count": 20,
   "metadata": {},
   "outputs": [
    {
     "data": {
      "text/plain": [
       "[[3], [9, 20], ['null', 'null', 15, 7]]"
      ]
     },
     "execution_count": 20,
     "metadata": {},
     "output_type": "execute_result"
    }
   ],
   "source": [
    "bt = Solution()\n",
    "bt.levelOrder(root)"
   ]
  },
  {
   "cell_type": "code",
   "execution_count": null,
   "metadata": {},
   "outputs": [],
   "source": []
  }
 ],
 "metadata": {
  "kernelspec": {
   "display_name": "Python 2",
   "language": "python",
   "name": "python2"
  },
  "language_info": {
   "codemirror_mode": {
    "name": "ipython",
    "version": 2
   },
   "file_extension": ".py",
   "mimetype": "text/x-python",
   "name": "python",
   "nbconvert_exporter": "python",
   "pygments_lexer": "ipython2",
   "version": "2.7.14"
  }
 },
 "nbformat": 4,
 "nbformat_minor": 2
}
